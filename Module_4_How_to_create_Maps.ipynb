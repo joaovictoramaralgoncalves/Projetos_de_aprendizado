{
  "nbformat": 4,
  "nbformat_minor": 0,
  "metadata": {
    "colab": {
      "provenance": [],
      "authorship_tag": "ABX9TyNJZG2P1dNiaerifvaR9Fjv",
      "include_colab_link": true
    },
    "kernelspec": {
      "name": "ir",
      "display_name": "R"
    },
    "language_info": {
      "name": "R"
    }
  },
  "cells": [
    {
      "cell_type": "markdown",
      "metadata": {
        "id": "view-in-github",
        "colab_type": "text"
      },
      "source": [
        "<a href=\"https://colab.research.google.com/github/joaovictoramaralgoncalves/Projetos_de_aprendizado/blob/master/Module_4_How_to_create_Maps.ipynb\" target=\"_parent\"><img src=\"https://colab.research.google.com/assets/colab-badge.svg\" alt=\"Open In Colab\"/></a>"
      ]
    },
    {
      "cell_type": "markdown",
      "source": [
        "# Module 4 - How to create Maps\n",
        "\n",
        "#OBS:\n",
        "### para visualizar os mapas utilize o Rstudio\n",
        "<br></br>\n",
        "##OBSERVAÇÕES GERAIS\n",
        "Para abrir R no Google Colab basta usar o código: https://colab.research.google.com/#create=true&language=r"
      ],
      "metadata": {
        "id": "WMUIL80GIyLl"
      }
    },
    {
      "cell_type": "code",
      "execution_count": 20,
      "metadata": {
        "colab": {
          "base_uri": "https://localhost:8080/"
        },
        "id": "CYUyRKe3IxjD",
        "outputId": "f22498b5-7cfc-4c4b-bbd0-3ea6180ccd6e"
      },
      "outputs": [
        {
          "output_type": "stream",
          "name": "stderr",
          "text": [
            "Installing package into ‘/usr/local/lib/R/site-library’\n",
            "(as ‘lib’ is unspecified)\n",
            "\n",
            "Installing package into ‘/usr/local/lib/R/site-library’\n",
            "(as ‘lib’ is unspecified)\n",
            "\n"
          ]
        }
      ],
      "source": [
        "## Bibliotecas\n",
        "install.packages(\"leaflet\")\n",
        "library(leaflet)"
      ]
    },
    {
      "cell_type": "code",
      "source": [
        "map <- leaflet() %>% addTiles()    # leaflet para puxar mapas \n",
        "map"
      ],
      "metadata": {
        "id": "1Zspn5PILPdh"
      },
      "execution_count": null,
      "outputs": []
    },
    {
      "cell_type": "code",
      "source": [
        "# Fazendo mapa da Times Square \n",
        "map <- leaflet() %>% addTiles() %>%\n",
        "  addMarkers(lng = -73.9851, lat = 40.7589,  # indica a latitude e a longitude.\n",
        "    popup = \"Times Square\")  # adicionando legenda\n",
        "map"
      ],
      "metadata": {
        "id": "RqNxrvxRMV4G"
      },
      "execution_count": null,
      "outputs": []
    },
    {
      "cell_type": "code",
      "source": [
        "# Fazendo mapa da Torre Eiffel \n",
        "ap <- leaflet() %>% addProviderTiles(\"Stamen.Watercolor\") %>%\n",
        "  addMarkers(lng = 2.2945, lat = 48.8584,\n",
        "             popup = \"Torre Eiffel\")\n",
        "map"
      ],
      "metadata": {
        "id": "Z8S600L3NZzN"
      },
      "execution_count": null,
      "outputs": []
    },
    {
      "cell_type": "markdown",
      "source": [
        "## Criando um mapa com um Data Frama\n",
        "\n",
        "\"Neste exemplo, vamos usar o conjunto de dados integrado 'quakes', que fornece os locais\n",
        "de 1.000 terremotos perto de Fiji desde 1964.\n",
        "Para cada terremoto, o conjunto de dados contém a longitude, latitude, profundidade, magnitude e\n",
        "número de estações\"."
      ],
      "metadata": {
        "id": "AsVQPZ3sRegp"
      }
    },
    {
      "cell_type": "code",
      "source": [
        "head(quakes)"
      ],
      "metadata": {
        "colab": {
          "base_uri": "https://localhost:8080/",
          "height": 286
        },
        "id": "YN45XmgFRjIs",
        "outputId": "684a3f01-4dd1-4c42-9cad-576fb78eb4a2"
      },
      "execution_count": 21,
      "outputs": [
        {
          "output_type": "display_data",
          "data": {
            "text/html": [
              "<table class=\"dataframe\">\n",
              "<caption>A data.frame: 6 × 5</caption>\n",
              "<thead>\n",
              "\t<tr><th></th><th scope=col>lat</th><th scope=col>long</th><th scope=col>depth</th><th scope=col>mag</th><th scope=col>stations</th></tr>\n",
              "\t<tr><th></th><th scope=col>&lt;dbl&gt;</th><th scope=col>&lt;dbl&gt;</th><th scope=col>&lt;int&gt;</th><th scope=col>&lt;dbl&gt;</th><th scope=col>&lt;int&gt;</th></tr>\n",
              "</thead>\n",
              "<tbody>\n",
              "\t<tr><th scope=row>1</th><td>-20.42</td><td>181.62</td><td>562</td><td>4.8</td><td>41</td></tr>\n",
              "\t<tr><th scope=row>2</th><td>-20.62</td><td>181.03</td><td>650</td><td>4.2</td><td>15</td></tr>\n",
              "\t<tr><th scope=row>3</th><td>-26.00</td><td>184.10</td><td> 42</td><td>5.4</td><td>43</td></tr>\n",
              "\t<tr><th scope=row>4</th><td>-17.97</td><td>181.66</td><td>626</td><td>4.1</td><td>19</td></tr>\n",
              "\t<tr><th scope=row>5</th><td>-20.42</td><td>181.96</td><td>649</td><td>4.0</td><td>11</td></tr>\n",
              "\t<tr><th scope=row>6</th><td>-19.68</td><td>184.31</td><td>195</td><td>4.0</td><td>12</td></tr>\n",
              "</tbody>\n",
              "</table>\n"
            ],
            "text/markdown": "\nA data.frame: 6 × 5\n\n| <!--/--> | lat &lt;dbl&gt; | long &lt;dbl&gt; | depth &lt;int&gt; | mag &lt;dbl&gt; | stations &lt;int&gt; |\n|---|---|---|---|---|---|\n| 1 | -20.42 | 181.62 | 562 | 4.8 | 41 |\n| 2 | -20.62 | 181.03 | 650 | 4.2 | 15 |\n| 3 | -26.00 | 184.10 |  42 | 5.4 | 43 |\n| 4 | -17.97 | 181.66 | 626 | 4.1 | 19 |\n| 5 | -20.42 | 181.96 | 649 | 4.0 | 11 |\n| 6 | -19.68 | 184.31 | 195 | 4.0 | 12 |\n\n",
            "text/latex": "A data.frame: 6 × 5\n\\begin{tabular}{r|lllll}\n  & lat & long & depth & mag & stations\\\\\n  & <dbl> & <dbl> & <int> & <dbl> & <int>\\\\\n\\hline\n\t1 & -20.42 & 181.62 & 562 & 4.8 & 41\\\\\n\t2 & -20.62 & 181.03 & 650 & 4.2 & 15\\\\\n\t3 & -26.00 & 184.10 &  42 & 5.4 & 43\\\\\n\t4 & -17.97 & 181.66 & 626 & 4.1 & 19\\\\\n\t5 & -20.42 & 181.96 & 649 & 4.0 & 11\\\\\n\t6 & -19.68 & 184.31 & 195 & 4.0 & 12\\\\\n\\end{tabular}\n",
            "text/plain": [
              "  lat    long   depth mag stations\n",
              "1 -20.42 181.62 562   4.8 41      \n",
              "2 -20.62 181.03 650   4.2 15      \n",
              "3 -26.00 184.10  42   5.4 43      \n",
              "4 -17.97 181.66 626   4.1 19      \n",
              "5 -20.42 181.96 649   4.0 11      \n",
              "6 -19.68 184.31 195   4.0 12      "
            ]
          },
          "metadata": {}
        }
      ]
    },
    {
      "cell_type": "code",
      "source": [
        "# mapa com todas as localizações\n",
        "map <- leaflet(quakes) %>% addTiles() %>%\n",
        "  addCircleMarkers(lng = quakes$long, lat = quakes$lat)"
      ],
      "metadata": {
        "id": "2x0I_1rARlkj"
      },
      "execution_count": 24,
      "outputs": []
    },
    {
      "cell_type": "code",
      "source": [
        "# mapa com todas as localizações\n",
        "map <- leaflet(quakes) %>% addTiles() %>%\n",
        "  addMarkers(clusterOptions = markerClusterOptions())\n",
        "    saveWidget(map7, file = \"map7.html\",selfcontained = F)\n",
        "     display_html(paste(\"<iframe src=' \", 'map7.html', \"'\n",
        "       width='100%' height='300'\", \"/>\"))"
      ],
      "metadata": {
        "colab": {
          "base_uri": "https://localhost:8080/",
          "height": 130
        },
        "id": "A5oKPsL8T4dP",
        "outputId": "941ce9a1-7931-4cdc-bf72-355fa24b3ca8"
      },
      "execution_count": 29,
      "outputs": [
        {
          "output_type": "stream",
          "name": "stderr",
          "text": [
            "Assuming \"long\" and \"lat\" are longitude and latitude, respectively\n",
            "\n"
          ]
        },
        {
          "output_type": "error",
          "ename": "ERROR",
          "evalue": "ignored",
          "traceback": [
            "Error in saveWidget(map7, file = \"map7.html\", selfcontained = F): could not find function \"saveWidget\"\nTraceback:\n"
          ]
        }
      ]
    }
  ]
}